{
 "cells": [
  {
   "cell_type": "code",
   "execution_count": 17,
   "metadata": {},
   "outputs": [],
   "source": [
    "from typing import TypedDict, Annotated\n",
    "from langgraph.graph import END, add_messages, StateGraph\n",
    "from langchain_groq import ChatGroq\n",
    "from langchain_core.messages import AIMessage, HumanMessage\n",
    "from dotenv import load_dotenv\n",
    "from langchain_community.tools import TavilySearchResults\n",
    "from langgraph.prebuilt import ToolNode\n",
    "from langgraph.checkpoint.memory import MemorySaver\n",
    "\n",
    "load_dotenv()\n",
    "\n",
    "\n",
    "class BasicChatState(TypedDict):\n",
    "    messages: Annotated[list, add_messages]\n",
    "\n",
    "\n",
    "memory = MemorySaver()\n",
    "\n",
    "llm = ChatGroq(model_name=\"llama-3.1-8b-instant\")\n",
    "search_tool = TavilySearchResults(max_results=4)\n",
    "tools = [search_tool]\n",
    "llm_with_tools = llm.bind_tools(tools=tools)\n",
    "\n",
    "\n",
    "def model(state: BasicChatState):\n",
    "    return {\"messages\": [llm_with_tools.invoke(state[\"messages\"])]}\n",
    "\n",
    "\n",
    "def tools_router(state: BasicChatState):\n",
    "    last_message = state[\"messages\"][-1]\n",
    "    if hasattr(last_message, \"tool_calls\") and len(last_message.tool_calls) > 0:\n",
    "        return \"tool_node\"\n",
    "    else:\n",
    "        return \"end\"\n",
    "\n",
    "\n",
    "tool_node = ToolNode(tools=tools)\n",
    "\n",
    "\n",
    "graph = StateGraph(BasicChatState)\n",
    "graph.add_node(\"model\", model)\n",
    "graph.add_node(\"tool_node\", tool_node)\n",
    "graph.set_entry_point(\"model\")\n",
    "graph.add_conditional_edges(\n",
    "    \"model\",\n",
    "    tools_router,\n",
    "    {\n",
    "        \"tool_node\": \"tool_node\",\n",
    "        \"end\": END,\n",
    "    },\n",
    ")\n",
    "graph.add_edge(\"tool_node\", \"model\")\n",
    "\n",
    "app = graph.compile(checkpointer=memory, interrupt_before=[\"tool_node\"])\n",
    "\n",
    "# while True:\n",
    "#     user_input = input(\"User : \")\n",
    "#     if user_input.lower() == \"exit\":\n",
    "#         break\n",
    "#     else:\n",
    "#         result = app.invoke({\"messages\": [HumanMessage(content=user_input)]})\n",
    "#         print(result[\"messages\"][-1].content)"
   ]
  },
  {
   "cell_type": "code",
   "execution_count": 19,
   "metadata": {},
   "outputs": [
    {
     "data": {
      "image/png": "[encoded data removed]",
      "text/plain": [
       "<IPython.core.display.Image object>"
      ]
     },
     "metadata": {},
     "output_type": "display_data"
    }
   ],
   "source": [
    "from IPython.display import Image, display\n",
    "\n",
    "display(Image(app.get_graph().draw_mermaid_png()))"
   ]
  },
  {
   "cell_type": "code",
   "execution_count": 22,
   "metadata": {},
   "outputs": [
    {
     "name": "stdout",
     "output_type": "stream",
     "text": [
      "================================\u001b[1m Human Message \u001b[0m=================================\n",
      "\n",
      "What is the current weather in Tokyo?\n",
      "==================================\u001b[1m Ai Message \u001b[0m==================================\n",
      "Tool Calls:\n",
      "  tavily_search_results_json (call_a2vr)\n",
      " Call ID: call_a2vr\n",
      "  Args:\n",
      "    query: current weather in Tokyo\n"
     ]
    }
   ],
   "source": [
    "config = {\"configurable\": {\"thread_id\": 1}}\n",
    "\n",
    "events = app.stream(\n",
    "    {\"messages\": [HumanMessage(content=\"What is the current weather in Tokyo?\")]},\n",
    "    config=config,\n",
    "    stream_mode=\"values\",\n",
    ")\n",
    "\n",
    "for event in events:\n",
    "    event[\"messages\"][-1].pretty_print()"
   ]
  },
  {
   "cell_type": "code",
   "execution_count": 23,
   "metadata": {},
   "outputs": [
    {
     "data": {
      "text/plain": [
       "('tool_node',)"
      ]
     },
     "execution_count": 23,
     "metadata": {},
     "output_type": "execute_result"
    }
   ],
   "source": [
    "snapshot = app.get_state(config=config)\n",
    "snapshot.next"
   ]
  },
  {
   "cell_type": "code",
   "execution_count": 24,
   "metadata": {},
   "outputs": [
    {
     "name": "stdout",
     "output_type": "stream",
     "text": [
      "==================================\u001b[1m Ai Message \u001b[0m==================================\n",
      "Tool Calls:\n",
      "  tavily_search_results_json (call_a2vr)\n",
      " Call ID: call_a2vr\n",
      "  Args:\n",
      "    query: current weather in Tokyo\n",
      "=================================\u001b[1m Tool Message \u001b[0m=================================\n",
      "Name: tavily_search_results_json\n",
      "\n",
      "[{\"title\": \"Weather for Tokyo, Japan - Time and Date\", \"url\": \"https://www.timeanddate.com/weather/japan/tokyo\", \"content\": \"Weather in Tokyo, Japan\\n\\nSunny.\\n\\nFeels Like: 66 °FForecast: 76 / 58 °FWind: 14 mph ↑ from South\\n\\nLocation: | Tokyo Heliport\\nCurrent Time: | Apr 27, 2025 at 6:56:05 pm\\nLatest Report: | Apr 27, 2025 at 4:00 pm\\nVisibility: | 10 mi\\nPressure: | 29.89 \\\"Hg\\nHumidity: | 60%\\nDew Point: | 52 °F\\nUpcoming 5 hours\\n\\nNow | 7:00 pm | 8:00 pm | 9:00 pm | 10:00 pm | 11:00 pm\\n |  |  |  |  | \\n66 °F | 70 °F | 69 °F | 69 °F | 67 °F | 64 °F\\nSee more hour-by-hour weather\\n\\nForecast for the next 48 hours [...] Humidity | 40% | 58% | 47% | 34% | 81% | 82% | 55%\\nDew Point | 43 °F | 45 °F | 48 °F | 43 °F | 54 °F | 53 °F | 50 °F\\nVisibility | 8 mi | 9 mi | 6 mi | 10 mi | 4 mi | 4 mi | 9 mi\\nProbability of Precipitation | 0% | 0% | 0% | 0% | 53% | 26% | 4%\\nAmount of Rain | - | - | - | 0.01\\\" | 0.12\\\" | 0.09\\\" | -\\n* Updated Sunday, April 27, 2025 4:42:52 pm Tokyo time - Weather by CustomWeather, © 2025\\n14 day forecast, day-by-dayHour-by-hour forecast for next week\", \"score\": 0.9582926}, {\"title\": \"Tokyo, Japan 14 day weather forecast - Time and Date\", \"url\": \"https://www.timeanddate.com/weather/japan/tokyo/ext\", \"content\": \"SatMay 10 |  | 73 / 61 °F | Showers early. Broken clouds. | 76 °F | 24 mph | ↑ | 62% | 42% | 0.02\\\" | 5(Moderate) | 4:40 am | 6:35 pm\\nSunMay 11 |  | 74 / 63 °F | Showers early. Cloudy. | 75 °F | 5 mph | ↑ | 74% | 66% | 0.28\\\" | 3(Moderate) | 4:39 am | 6:35 pm\\n* Updated Sunday, April 27, 2025 12:24:04 pm Tokyo time - Weather by CustomWeather, © 2025\\nHour-by-hour weather for Tokyo next 7 days [...] | Conditions | Comfort | Precipitation | Sun\\nDay |  | Temperature | Weather | Feels Like | Wind |  | Humidity | Chance | Amount | UV | Sunrise | Sunset\\nSunApr 27 |  | 74 / 50 °F | Afternoon clouds. | 77 °F | 16 mph | ↑ | 36% | 0% | - | 5(Moderate) | 4:54 am | 6:24 pm\\nMonApr 28 |  | 76 / 58 °F | Showers late. Overcast. | 76 °F | 24 mph | ↑ | 31% | 56% | 0.08\\\" | 3(Moderate) | 4:52 am | 6:25 pm\", \"score\": 0.8793233}, {\"title\": \"Weather in Tokyo\", \"url\": \"https://www.weatherapi.com/\", \"content\": \"{'location': {'name': 'Tokyo', 'region': 'Tokyo', 'country': 'Japan', 'lat': 35.6895, 'lon': 139.6917, 'tz_id': 'Asia/Tokyo', 'localtime_epoch': 1745747763, 'localtime': '2025-04-27 18:56'}, 'current': {'last_updated_epoch': 1745747100, 'last_updated': '2025-04-27 18:45', 'temp_c': 21.0, 'temp_f': 69.7, 'is_day': 0, 'condition': {'text': 'Sunny', 'icon': '//cdn.weatherapi.com/weather/64x64/night/113.png', 'code': 1000}, 'wind_mph': 10.5, 'wind_kph': 16.9, 'wind_degree': 184, 'wind_dir': 'S', 'pressure_mb': 1011.0, 'pressure_in': 29.86, 'precip_mm': 0.0, 'precip_in': 0.0, 'humidity': 39, 'cloud': 6, 'feelslike_c': 21.0, 'feelslike_f': 69.7, 'windchill_c': 21.0, 'windchill_f': 69.7, 'heatindex_c': 21.0, 'heatindex_f': 69.7, 'dewpoint_c': 6.6, 'dewpoint_f': 43.9, 'vis_km': 10.0, 'vis_miles': 6.0, 'uv': 0.0, 'gust_mph': 14.6, 'gust_kph': 23.5}}\", \"score\": 0.8597048}, {\"title\": \"Weather in Tokyo in April 2025 - Detailed Forecast\", \"url\": \"https://www.easeweather.com/asia/japan/tokyo/april\", \"content\": \"As the month progresses, temperatures gradually rise. By the end of April, you can expect temperatures to range from 13° to 20°. The weather becomes milder and more comfortable, perfect for exploring Tokyo's numerous attractions, from historic temples to modern shopping districts.\\n\\nRainfall is relatively low, but it's always a good idea to carry an umbrella just in case of sudden showers. [...] Weather in Tokyo for April 2025\\n\\nTemperatures\\n\\nUntil now, April 2025 in Tokyo is slightly cooler than the historical average by -0.6 °C.\\n\\nThe forecast for the next days in Tokyo predicts temperatures to be around 21 °C, close to the historical average.\\n\\nIn general, the average temperature in Tokyo at the beginning of April is 15.7 °C. As the month progressed, temperatures tended to significantly warm up, reaching an average of 21 °C by the end of April.\\n\\nRain 🌧️ [...] 21 Apr. | Overcast | 21°/14° | 5.2mm | 5 | \\n22 Apr. | Partly cloudy | 20°/13° | 9.7mm | 5 | \\n23 Apr. | Sunny | 20°/13° | 2.7mm | 4 | \\n24 Apr. | Overcast | 18°/13° | 2.9mm | 4 | \\n25 Apr. | Patchy rain possible | 21°/12° | 1mm | 5 | \\n26 Apr. | Sunny | 21°/14° | 4.8mm | 5 | \\n27 Apr. | Sunny | 21°/14° | 0mm | 1.9 | \\n28 Apr. | Patchy rain possible | 22°/15° | 3.3mm | 1.6 | \\n29 Apr. | Patchy rain possible | 22°/14° | 0.2mm | 1.6 | \\n30 Apr. | Sunny | 22°/13° | 0mm | 1.6 | \\nNext\", \"score\": 0.82994765}]\n",
      "==================================\u001b[1m Ai Message \u001b[0m==================================\n",
      "\n",
      "The current weather in Tokyo is sunny with a temperature of 21°C (69.7°F) and a humidity of 39%. The wind speed is 10.5 mph (16.9 km/h) from the south. There is no precipitation expected, and the visibility is 10 km (6.2 miles).\n"
     ]
    }
   ],
   "source": [
    "events = app.stream(None, config, stream_mode=\"values\")\n",
    "for event in events:\n",
    "    event[\"messages\"][-1].pretty_print()"
   ]
  },
  {
   "cell_type": "code",
   "execution_count": null,
   "metadata": {},
   "outputs": [],
   "source": []
  }
 ],
 "metadata": {
  "kernelspec": {
   "display_name": ".venv",
   "language": "python",
   "name": "python3"
  },
  "language_info": {
   "codemirror_mode": {
    "name": "ipython",
    "version": 3
   },
   "file_extension": ".py",
   "mimetype": "text/x-python",
   "name": "python",
   "nbconvert_exporter": "python",
   "pygments_lexer": "ipython3",
   "version": "3.11.6"
  }
 },
 "nbformat": 4,
 "nbformat_minor": 2
}

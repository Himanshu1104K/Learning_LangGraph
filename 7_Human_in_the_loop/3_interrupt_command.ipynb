{
 "cells": [
  {
   "cell_type": "code",
   "execution_count": 1,
   "metadata": {},
   "outputs": [
    {
     "name": "stdout",
     "output_type": "stream",
     "text": [
      "Starting the graph\n",
      "Node A\n",
      "Node B\n",
      "[{'node_a': {'text': 'a'}}, {'__interrupt__': (Interrupt(value='Do you want to go to C or D? Type C/D', resumable=True, ns=['node_b:12be7900-eba7-0628-55a8-8cf45c102de5']),)}]\n"
     ]
    }
   ],
   "source": [
    "from langgraph.graph import StateGraph, add_messages, END\n",
    "from langgraph.types import Command, interrupt\n",
    "from typing import TypedDict\n",
    "from langgraph.checkpoint.memory import MemorySaver\n",
    "\n",
    "memory = MemorySaver()\n",
    "\n",
    "\n",
    "class State(TypedDict):\n",
    "    text: str\n",
    "\n",
    "\n",
    "def node_a(state: State):\n",
    "    print(\"Node A\")\n",
    "    return Command(goto=\"node_b\", update={\"text\": state[\"text\"] + \"a\"})\n",
    "\n",
    "\n",
    "def node_b(state: State):\n",
    "    print(\"Node B\")\n",
    "\n",
    "    human_response = interrupt(\"Do you want to go to C or D? Type C/D\")\n",
    "\n",
    "    if human_response.upper() == \"C\":\n",
    "        return Command(goto=\"node_c\", update={\"text\": state[\"text\"] + \"b\"})\n",
    "    elif human_response.upper() == \"D\":\n",
    "        return Command(goto=\"node_d\", update={\"text\": state[\"text\"] + \"b\"})\n",
    "\n",
    "\n",
    "def node_c(state: State):\n",
    "    print(\"Node C\")\n",
    "    return Command(goto=END, update={\"text\": state[\"text\"] + \"c\"})\n",
    "\n",
    "\n",
    "def node_d(state: State):\n",
    "    print(\"Node D\")\n",
    "    return Command(goto=END, update={\"text\": state[\"text\"] + \"d\"})\n",
    "\n",
    "\n",
    "print(\"Starting the graph\")\n",
    "\n",
    "graph = StateGraph(State)\n",
    "\n",
    "graph.add_node(\"node_a\", node_a)\n",
    "graph.add_node(\"node_b\", node_b)\n",
    "graph.add_node(\"node_c\", node_c)\n",
    "graph.add_node(\"node_d\", node_d)\n",
    "\n",
    "graph.set_entry_point(\"node_a\")\n",
    "\n",
    "app = graph.compile(checkpointer=memory)\n",
    "config = {\n",
    "    \"configurable\": {\n",
    "        \"thread_id\": 1,\n",
    "    }\n",
    "}\n",
    "\n",
    "initial_state = {\"text\": \"\"}\n",
    "\n",
    "response = app.invoke(\n",
    "    initial_state,\n",
    "    config=config,\n",
    "    stream_mode=\"updates\",\n",
    ")\n",
    "\n",
    "print(response)\n"
   ]
  },
  {
   "cell_type": "code",
   "execution_count": 2,
   "metadata": {},
   "outputs": [
    {
     "name": "stdout",
     "output_type": "stream",
     "text": [
      "('node_b',)\n"
     ]
    }
   ],
   "source": [
    "print(app.get_state(config).next)"
   ]
  },
  {
   "cell_type": "code",
   "execution_count": 3,
   "metadata": {},
   "outputs": [
    {
     "name": "stdout",
     "output_type": "stream",
     "text": [
      "Node B\n",
      "Node D\n"
     ]
    },
    {
     "data": {
      "text/plain": [
       "[{'node_b': {'text': 'ab'}}, {'node_d': {'text': 'abd'}}]"
      ]
     },
     "execution_count": 3,
     "metadata": {},
     "output_type": "execute_result"
    }
   ],
   "source": [
    "second_result = app.invoke(\n",
    "    Command(resume=\"D\"),\n",
    "    config=config,\n",
    "    stream_mode=\"updates\",\n",
    ")\n",
    "second_result"
   ]
  },
  {
   "cell_type": "code",
   "execution_count": null,
   "metadata": {},
   "outputs": [],
   "source": []
  }
 ],
 "metadata": {
  "kernelspec": {
   "display_name": ".venv",
   "language": "python",
   "name": "python3"
  },
  "language_info": {
   "codemirror_mode": {
    "name": "ipython",
    "version": 3
   },
   "file_extension": ".py",
   "mimetype": "text/x-python",
   "name": "python",
   "nbconvert_exporter": "python",
   "pygments_lexer": "ipython3",
   "version": "3.11.6"
  }
 },
 "nbformat": 4,
 "nbformat_minor": 2
}

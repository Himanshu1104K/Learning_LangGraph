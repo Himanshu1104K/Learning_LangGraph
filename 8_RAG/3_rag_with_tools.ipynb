{
 "cells": [
  {
   "cell_type": "code",
   "execution_count": 30,
   "metadata": {},
   "outputs": [],
   "source": [
    "from langchain.schema import Document\n",
    "from langchain_huggingface import HuggingFaceEmbeddings\n",
    "from langchain_community.vectorstores import Chroma\n",
    "\n",
    "embeddings = HuggingFaceEmbeddings(\n",
    "    model_name=\"sentence-transformers/all-MiniLM-L6-v2\",\n",
    ")\n",
    "\n",
    "\n",
    "docs = [\n",
    "    Document(\n",
    "        page_content=\"Peak Performance Gym was founded in 2015 by former Olympic athlete Marcus Chen. With over 15 years of experience in professional athletics, Marcus established the gym to provide personalized fitness solutions for people of all levels. The gym spans 10,000 square feet and features state-of-the-art equipment.\",\n",
    "        metadata={\"source\": \"about.txt\"},\n",
    "    ),\n",
    "    Document(\n",
    "        page_content=\"Peak Performance Gym is open Monday through Friday from 5:00 AM to 11:00 PM. On weekends, our hours are 7:00 AM to 9:00 PM. We remain closed on major national holidays. Members with Premium access can enter using their key cards 24/7, including holidays.\",\n",
    "        metadata={\"source\": \"hours.txt\"},\n",
    "    ),\n",
    "    Document(\n",
    "        page_content=\"Our membership plans include: Basic (₹1,500/month) with access to gym floor and basic equipment; Standard (₹2,500/month) adds group classes and locker facilities; Premium (₹4,000/month) includes 24/7 access, personal training sessions, and spa facilities. We offer student and senior citizen discounts of 15% on all plans. Corporate partnerships are available for companies with 10+ employees joining.\",\n",
    "        metadata={\"source\": \"membership.txt\"},\n",
    "    ),\n",
    "    Document(\n",
    "        page_content=\"Group fitness classes at Peak Performance Gym include Yoga (beginner, intermediate, advanced), HIIT, Zumba, Spin Cycling, CrossFit, and Pilates. Beginner classes are held every Monday and Wednesday at 6:00 PM. Intermediate and advanced classes are scheduled throughout the week. The full schedule is available on our mobile app or at the reception desk.\",\n",
    "        metadata={\"source\": \"classes.txt\"},\n",
    "    ),\n",
    "    Document(\n",
    "        page_content=\"Personal trainers at Peak Performance Gym are all certified professionals with minimum 5 years of experience. Each new member receives a complimentary fitness assessment and one free session with a trainer. Our head trainer, Neha Kapoor, specializes in rehabilitation fitness and sports-specific training. Personal training sessions can be booked individually (₹800/session) or in packages of 10 (₹7,000) or 20 (₹13,000).\",\n",
    "        metadata={\"source\": \"trainers.txt\"},\n",
    "    ),\n",
    "    Document(\n",
    "        page_content=\"Peak Performance Gym's facilities include a cardio zone with 30+ machines, strength training area, functional fitness space, dedicated yoga studio, spin class room, swimming pool (25m), sauna and steam rooms, juice bar, and locker rooms with shower facilities. Our equipment is replaced or upgraded every 3 years to ensure members have access to the latest fitness technology.\",\n",
    "        metadata={\"source\": \"facilities.txt\"},\n",
    "    ),\n",
    "]\n",
    "\n",
    "db = Chroma.from_documents(docs, embeddings)\n"
   ]
  },
  {
   "cell_type": "code",
   "execution_count": 31,
   "metadata": {},
   "outputs": [],
   "source": [
    "retriever = db.as_retriever(search_type=\"mmr\", search_kwargs={\"k\": 3})"
   ]
  },
  {
   "cell_type": "code",
   "execution_count": 32,
   "metadata": {},
   "outputs": [],
   "source": [
    "from langchain.tools.retriever import create_retriever_tool\n",
    "from langchain_core.tools import tool\n",
    "\n",
    "retriever_tool = create_retriever_tool(\n",
    "    retriever,\n",
    "    \"retriever_tool\",\n",
    "    \"Information related to the Gym History & Founder, Operating Hours, Membership plans, Fitness Classes, Personal Trainers, Gym Facilities & Equipment, Personal Trainers of the Peak Performance Gym\",\n",
    ")\n",
    "\n",
    "\n",
    "@tool\n",
    "def off_topic():\n",
    "    \"\"\"Catch all Questions NOT related to the Gym History & Founder, Operating Hours, Membership plans, Fitness Classes, Personal Trainers, Gym Facilities & Equipment, Personal Trainers of the Peak Performance Gym\"\"\"\n",
    "    return \"Forbidden - do not respond to this question\"\n",
    "\n",
    "\n",
    "tools = [retriever_tool, off_topic]"
   ]
  },
  {
   "cell_type": "code",
   "execution_count": 33,
   "metadata": {},
   "outputs": [],
   "source": [
    "from typing import Annotated, TypedDict, Sequence, Literal\n",
    "from langchain_core.messages import BaseMessage\n",
    "from langgraph.graph.message import add_messages\n",
    "\n",
    "\n",
    "class AgentState(TypedDict):\n",
    "    messages: Annotated[Sequence[BaseMessage], add_messages]"
   ]
  },
  {
   "cell_type": "code",
   "execution_count": 34,
   "metadata": {},
   "outputs": [],
   "source": [
    "from langchain_core.messages import HumanMessage\n",
    "from langchain_anthropic import ChatAnthropic\n",
    "from langgraph.graph import StateGraph, END, START\n",
    "\n",
    "\n",
    "def agent(state: AgentState):\n",
    "    messages = state[\"messages\"]\n",
    "    model = ChatAnthropic(model=\"claude-3-7-sonnet-20250219\")\n",
    "    model = model.bind_tools(tools)\n",
    "    response = model.invoke(messages)\n",
    "    return {\"messages\": [response]}\n",
    "\n",
    "\n",
    "def should_continue(state: AgentState) -> Literal[\"tools\", END]:\n",
    "    messages = state[\"messages\"]\n",
    "    last_message = messages[-1]\n",
    "    if last_message.tool_calls:\n",
    "        return \"tools\"\n",
    "    return END"
   ]
  },
  {
   "cell_type": "code",
   "execution_count": 35,
   "metadata": {},
   "outputs": [],
   "source": [
    "from langgraph.prebuilt import ToolNode\n",
    "\n",
    "workflow = StateGraph(AgentState)\n",
    "\n",
    "tool_node = ToolNode(tools)\n",
    "\n",
    "workflow.add_node(\"tools\", tool_node)\n",
    "workflow.add_node(\"agent\", agent)\n",
    "\n",
    "workflow.set_entry_point(\"agent\")\n",
    "\n",
    "workflow.add_edge(START, \"agent\")\n",
    "workflow.add_conditional_edges(\n",
    "    \"agent\",\n",
    "    should_continue,\n",
    "    {\n",
    "        \"tools\": \"tools\",\n",
    "        END: END,\n",
    "    },\n",
    ")\n",
    "\n",
    "workflow.add_edge(\"tools\", \"agent\")\n",
    "\n",
    "graph = workflow.compile()"
   ]
  },
  {
   "cell_type": "code",
   "execution_count": 36,
   "metadata": {},
   "outputs": [
    {
     "data": {
      "image/png": "[encoded data removed]",
      "text/plain": [
       "<IPython.core.display.Image object>"
      ]
     },
     "metadata": {},
     "output_type": "display_data"
    }
   ],
   "source": [
    "from IPython.display import Image, display\n",
    "\n",
    "display(Image(graph.get_graph().draw_mermaid_png()))"
   ]
  },
  {
   "cell_type": "code",
   "execution_count": 37,
   "metadata": {},
   "outputs": [
    {
     "data": {
      "text/plain": [
       "{'messages': [HumanMessage(content='what is the latest product of apple?', additional_kwargs={}, response_metadata={}, id='b4d9c67e-7b42-49bc-b8f2-2069f6a5db9a'),\n",
       "  AIMessage(content=[{'text': \"This question appears to be about Apple Inc. and its latest products, which is not related to Peak Performance Gym's information. I don't have specific information about Apple products as I'm designed to help with questions about the gym.\", 'type': 'text'}, {'id': 'toolu_01GmhUktpsZfyfriz4zhheHm', 'input': {}, 'name': 'off_topic', 'type': 'tool_use'}], additional_kwargs={}, response_metadata={'id': 'msg_01J67mDeJXPmYSdEKBAfS8fq', 'model': 'claude-3-7-sonnet-20250219', 'stop_reason': 'tool_use', 'stop_sequence': None, 'usage': {'cache_creation_input_tokens': 0, 'cache_read_input_tokens': 0, 'input_tokens': 515, 'output_tokens': 84}, 'model_name': 'claude-3-7-sonnet-20250219'}, id='run-e22167ed-e70c-4a2a-9911-01c0c6757f62-0', tool_calls=[{'name': 'off_topic', 'args': {}, 'id': 'toolu_01GmhUktpsZfyfriz4zhheHm', 'type': 'tool_call'}], usage_metadata={'input_tokens': 515, 'output_tokens': 84, 'total_tokens': 599, 'input_token_details': {'cache_read': 0, 'cache_creation': 0}}),\n",
       "  ToolMessage(content='Forbidden - do not respond to this question', name='off_topic', id='c6ac0856-2116-4674-aca9-bfb2abada068', tool_call_id='toolu_01GmhUktpsZfyfriz4zhheHm'),\n",
       "  AIMessage(content=\"I'm sorry, but I can only provide information about Peak Performance Gym, such as its history, membership plans, classes, facilities, trainers, and operating hours. I don't have information about Apple products or other topics unrelated to the gym.\\n\\nIf you have any questions about Peak Performance Gym's services or facilities, I'd be happy to help with those instead.\", additional_kwargs={}, response_metadata={'id': 'msg_01N77a8jY4rEpStnkjmY6F5n', 'model': 'claude-3-7-sonnet-20250219', 'stop_reason': 'end_turn', 'stop_sequence': None, 'usage': {'cache_creation_input_tokens': 0, 'cache_read_input_tokens': 0, 'input_tokens': 619, 'output_tokens': 82}, 'model_name': 'claude-3-7-sonnet-20250219'}, id='run-fe72651d-f8aa-4a7b-b263-b9663068fca0-0', usage_metadata={'input_tokens': 619, 'output_tokens': 82, 'total_tokens': 701, 'input_token_details': {'cache_read': 0, 'cache_creation': 0}})]}"
      ]
     },
     "execution_count": 37,
     "metadata": {},
     "output_type": "execute_result"
    }
   ],
   "source": [
    "graph.invoke(\n",
    "    {\"messages\": [HumanMessage(content=\"what is the latest product of apple?\")]}\n",
    ")"
   ]
  },
  {
   "cell_type": "code",
   "execution_count": 38,
   "metadata": {},
   "outputs": [
    {
     "data": {
      "text/plain": [
       "{'messages': [HumanMessage(content='Who is the owner of the gym and what are the timings?', additional_kwargs={}, response_metadata={}, id='fc072919-8b4f-4b0d-848c-ca266cc2fdd9'),\n",
       "  AIMessage(content=[{'text': \"I'll help you find information about the gym owner and operating hours. Let me search for that information.\", 'type': 'text'}, {'id': 'toolu_01UySGhZxvjHx28mo7E776xU', 'input': {'query': 'gym owner founder and operating hours'}, 'name': 'retriever_tool', 'type': 'tool_use'}], additional_kwargs={}, response_metadata={'id': 'msg_01NQ8azJa61eUtCMQupDVUpj', 'model': 'claude-3-7-sonnet-20250219', 'stop_reason': 'tool_use', 'stop_sequence': None, 'usage': {'cache_creation_input_tokens': 0, 'cache_read_input_tokens': 0, 'input_tokens': 521, 'output_tokens': 81}, 'model_name': 'claude-3-7-sonnet-20250219'}, id='run-b74b1de8-44d0-40b2-a87f-77230b3696c3-0', tool_calls=[{'name': 'retriever_tool', 'args': {'query': 'gym owner founder and operating hours'}, 'id': 'toolu_01UySGhZxvjHx28mo7E776xU', 'type': 'tool_call'}], usage_metadata={'input_tokens': 521, 'output_tokens': 81, 'total_tokens': 602, 'input_token_details': {'cache_read': 0, 'cache_creation': 0}}),\n",
       "  ToolMessage(content='Peak Performance Gym is open Monday through Friday from 5:00 AM to 11:00 PM. On weekends, our hours are 7:00 AM to 9:00 PM. We remain closed on major national holidays. Members with Premium access can enter using their key cards 24/7, including holidays.\\n\\nPeak Performance Gym was founded in 2015 by former Olympic athlete Marcus Chen. With over 15 years of experience in professional athletics, Marcus established the gym to provide personalized fitness solutions for people of all levels. The gym spans 10,000 square feet and features state-of-the-art equipment.\\n\\nPersonal trainers at Peak Performance Gym are all certified professionals with minimum 5 years of experience. Each new member receives a complimentary fitness assessment and one free session with a trainer. Our head trainer, Neha Kapoor, specializes in rehabilitation fitness and sports-specific training. Personal training sessions can be booked individually (₹800/session) or in packages of 10 (₹7,000) or 20 (₹13,000).', name='retriever_tool', id='a628bef7-3e3f-4e62-a0c0-9a5492c19d5b', tool_call_id='toolu_01UySGhZxvjHx28mo7E776xU'),\n",
       "  AIMessage(content=\"Based on the information I found:\\n\\n**Gym Owner/Founder:**\\nPeak Performance Gym was founded in 2015 by Marcus Chen, a former Olympic athlete with over 15 years of experience in professional athletics. He established the gym to provide personalized fitness solutions for people of all levels.\\n\\n**Operating Hours:**\\n- Monday through Friday: 5:00 AM to 11:00 PM\\n- Weekends: 7:00 AM to 9:00 PM\\n- Closed on major national holidays\\n- Premium members with key cards have 24/7 access, including holidays\\n\\nIs there anything else you'd like to know about Peak Performance Gym?\", additional_kwargs={}, response_metadata={'id': 'msg_01Q2gfvvDB73a9VFxeQM5B7e', 'model': 'claude-3-7-sonnet-20250219', 'stop_reason': 'end_turn', 'stop_sequence': None, 'usage': {'cache_creation_input_tokens': 0, 'cache_read_input_tokens': 0, 'input_tokens': 854, 'output_tokens': 152}, 'model_name': 'claude-3-7-sonnet-20250219'}, id='run-46a7c616-1299-4eff-9d93-053b48ed15f3-0', usage_metadata={'input_tokens': 854, 'output_tokens': 152, 'total_tokens': 1006, 'input_token_details': {'cache_read': 0, 'cache_creation': 0}})]}"
      ]
     },
     "execution_count": 38,
     "metadata": {},
     "output_type": "execute_result"
    }
   ],
   "source": [
    "graph.invoke(\n",
    "    {\"messages\": [HumanMessage(content=\"Who is the owner of the gym and what are the timings?\")]}\n",
    ")"
   ]
  },
  {
   "cell_type": "code",
   "execution_count": null,
   "metadata": {},
   "outputs": [],
   "source": []
  }
 ],
 "metadata": {
  "kernelspec": {
   "display_name": ".venv",
   "language": "python",
   "name": "python3"
  },
  "language_info": {
   "codemirror_mode": {
    "name": "ipython",
    "version": 3
   },
   "file_extension": ".py",
   "mimetype": "text/x-python",
   "name": "python",
   "nbconvert_exporter": "python",
   "pygments_lexer": "ipython3",
   "version": "3.11.6"
  }
 },
 "nbformat": 4,
 "nbformat_minor": 2
}
